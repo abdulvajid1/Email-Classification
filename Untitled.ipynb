{
 "cells": [
  {
   "cell_type": "code",
   "execution_count": 20,
   "id": "2f738400",
   "metadata": {},
   "outputs": [],
   "source": [
    "import pandas as pd\n",
    "import os\n",
    "import re\n",
    "import numpy as np\n",
    "import email"
   ]
  },
  {
   "cell_type": "code",
   "execution_count": null,
   "id": "3f579c7f",
   "metadata": {},
   "outputs": [],
   "source": []
  },
  {
   "cell_type": "code",
   "execution_count": 2,
   "id": "9bc9e9da",
   "metadata": {},
   "outputs": [],
   "source": [
    "files = []\n",
    "os.listdir('spam')\n",
    "for file in os.listdir('spam'):\n",
    "    new_file = os.path.join('spam',file)\n",
    "    files.append(new_file)"
   ]
  },
  {
   "cell_type": "code",
   "execution_count": 3,
   "id": "6cb91a83",
   "metadata": {},
   "outputs": [],
   "source": [
    "file_contents = []\n",
    "for file in files:\n",
    "    with open(file,'r',encoding='cp437' ) as f:\n",
    "        file_contents.append(f.readlines())"
   ]
  },
  {
   "cell_type": "code",
   "execution_count": 17,
   "id": "800a1db7",
   "metadata": {},
   "outputs": [],
   "source": [
    "spam_msg_list = file_contents[1:]"
   ]
  },
  {
   "cell_type": "code",
   "execution_count": 31,
   "id": "a84ba692",
   "metadata": {},
   "outputs": [
    {
     "name": "stdout",
     "output_type": "stream",
     "text": [
      "['From 12a1mailbot1@web.de  Thu Aug 22 13:17:22 2002\\n', 'Return-Path: <12a1mailbot1@web.de>\\n', 'Delivered-To: zzzz@localhost.example.com\\n', 'Received: from localhost (localhost [127.0.0.1])\\n', '\\tby phobos.labs.example.com (Postfix) with ESMTP id 136B943C32\\n', '\\tfor <zzzz@localhost>; Thu, 22 Aug 2002 08:17:21 -0400 (EDT)\\n', 'Received: from mail.webnote.net [193.120.211.219]\\n', '\\tby localhost with POP3 (fetchmail-5.9.0)\\n', '\\tfor zzzz@localhost (single-drop); Thu, 22 Aug 2002 13:17:21 +0100 (IST)\\n', 'Received: from dd_it7 ([210.97.77.167])\\n', '\\tby webnote.net (8.9.3/8.9.3) with ESMTP id NAA04623\\n', '\\tfor <zzzz@example.com>; Thu, 22 Aug 2002 13:09:41 +0100\\n', 'From: 12a1mailbot1@web.de\\n', 'Received: from r-smtp.korea.com - 203.122.2.197 by dd_it7  with Microsoft SMTPSVC(5.5.1775.675.6);\\n', '\\t Sat, 24 Aug 2002 09:42:10 +0900\\n', 'To: <dcek1a1@netsgo.com>\\n', 'Subject: Life Insurance - Why Pay More?\\n', 'Date: Wed, 21 Aug 2002 20:31:57 -1600\\n', 'MIME-Version: 1.0\\n', 'Message-ID: <0103c1042001882DD_IT7@dd_it7>\\n', 'Content-Type: text/html; charset=\"iso-8859-1\"\\n', 'Content-Transfer-Encoding: quoted-printable\\n', '\\n', '<!DOCTYPE HTML PUBLIC \"-//W3C//DTD HTML 4.0 Transitional//EN\">\\n', '<HTML><HEAD>\\n', '<META content=3D\"text/html; charset=3Dwindows-1252\" http-equiv=3DContent-T=\\n', 'ype>\\n', '<META content=3D\"MSHTML 5.00.2314.1000\" name=3DGENERATOR></HEAD>\\n', '<BODY><!-- Inserted by Calypso -->\\n', '<TABLE border=3D0 cellPadding=3D0 cellSpacing=3D2 id=3D_CalyPrintHeader_ r=\\n', 'ules=3Dnone \\n', 'style=3D\"COLOR: black; DISPLAY: none\" width=3D\"100%\">\\n', '  <TBODY>\\n', '  <TR>\\n', '    <TD colSpan=3D3>\\n', '      <HR color=3Dblack noShade SIZE=3D1>\\n', '    </TD></TR></TD></TR>\\n', '  <TR>\\n', '    <TD colSpan=3D3>\\n', '      <HR color=3Dblack noShade SIZE=3D1>\\n', '    </TD></TR></TBODY></TABLE><!-- End Calypso --><!-- Inserted by Calypso=\\n', ' --><FONT \\n', 'color=3D#000000 face=3DVERDANA,ARIAL,HELVETICA size=3D-2><BR></FONT></TD><=\\n', '/TR></TABLE><!-- End Calypso --><FONT color=3D#ff0000 \\n', 'face=3D\"Copperplate Gothic Bold\" size=3D5 PTSIZE=3D\"10\">\\n', '<CENTER>Save up to 70% on Life Insurance.</CENTER></FONT><FONT color=3D#ff=\\n', '0000 \\n', 'face=3D\"Copperplate Gothic Bold\" size=3D5 PTSIZE=3D\"10\">\\n', '<CENTER>Why Spend More Than You Have To?\\n', '<CENTER><FONT color=3D#ff0000 face=3D\"Copperplate Gothic Bold\" size=3D5 PT=\\n', 'SIZE=3D\"10\">\\n', '<CENTER>Life Quote Savings\\n', '<CENTER>\\n', '<P align=3Dleft></P>\\n', '<P align=3Dleft></P></FONT></U></I></B><BR></FONT></U></B></U></I>\\n', '<P></P>\\n', '<CENTER>\\n', '<TABLE border=3D0 borderColor=3D#111111 cellPadding=3D0 cellSpacing=3D0 wi=\\n', 'dth=3D650>\\n', '  <TBODY></TBODY></TABLE>\\n', '<TABLE border=3D0 borderColor=3D#111111 cellPadding=3D5 cellSpacing=3D0 wi=\\n', 'dth=3D650>\\n', '  <TBODY>\\n', '  <TR>\\n', '    <TD colSpan=3D2 width=3D\"35%\"><B><FONT face=3DVerdana size=3D4>Ensurin=\\n', 'g your \\n', \"      family's financial security is very important. Life Quote Savings ma=\\n\", 'kes \\n', '      buying life insurance simple and affordable. We Provide FREE Access =\\n', 'to The \\n', '      Very Best Companies and The Lowest Rates.</FONT></B></TD></TR>\\n', '  <TR>\\n', '    <TD align=3Dmiddle vAlign=3Dtop width=3D\"18%\">\\n', '      <TABLE borderColor=3D#111111 width=3D\"100%\">\\n', '        <TBODY>\\n', '        <TR>\\n', '          <TD style=3D\"PADDING-LEFT: 5px; PADDING-RIGHT: 5px\" width=3D\"100=\\n', '%\"><FONT \\n', '            face=3DVerdana size=3D4><B>Life Quote Savings</B> is FAST, EAS=\\n', 'Y and \\n', '            SAVES you money! Let us help you get started with the best val=\\n', 'ues in \\n', '            the country on new coverage. You can SAVE hundreds or even tho=\\n', 'usands \\n', '            of dollars by requesting a FREE quote from Lifequote Savings. =\\n', 'Our \\n', '            service will take you less than 5 minutes to complete. Shop an=\\n', 'd \\n', '            compare. SAVE up to 70% on all types of Life insurance! \\n', '</FONT></TD></TR>\\n', '        <TR><BR><BR>\\n', '          <TD height=3D50 style=3D\"PADDING-LEFT: 5px; PADDING-RIGHT: 5px\" \\n', '          width=3D\"100%\">\\n', '            <P align=3Dcenter><B><FONT face=3DVerdana size=3D5><A \\n', '            href=3D\"http://website.e365.cc/savequote/\">Click Here For Your=\\n', ' \\n', '            Free Quote!</A></FONT></B></P></TD>\\n', '          <P><FONT face=3DVerdana size=3D4><STRONG>\\n', \"          <CENTER>Protecting your family is the best investment you'll eve=\\n\", 'r \\n', '          make!<BR></B></TD></TR>\\n', '        <TR><BR><BR></STRONG></FONT></TD></TR></TD></TR>\\n', '        <TR></TR></TBODY></TABLE>\\n', '      <P align=3Dleft><FONT face=3D\"Arial, Helvetica, sans-serif\" size=3D2=\\n', '></FONT></P>\\n', '      <P></P>\\n', '      <CENTER><BR><BR><BR>\\n', '      <P></P>\\n', '      <P align=3Dleft><BR></B><BR><BR><BR><BR></P>\\n', '      <P align=3Dcenter><BR></P>\\n', '      <P align=3Dleft><BR></B><BR><BR></FONT>If you are in receipt of this=\\n', ' email \\n', '      in error and/or wish to be removed from our list, <A \\n', '      href=3D\"mailto:coins@btamail.net.cn\">PLEASE CLICK HERE</A> AND TYPE =\\n', 'REMOVE. If you \\n', '      reside in any state which prohibits e-mail solicitations for insuran=\\n', 'ce, \\n', '      please disregard this \\n', '      email.<BR></FONT><BR><BR><BR><BR><BR><BR><BR><BR><BR><BR><BR><BR><BR=\\n', '><BR><BR><BR></FONT></P></CENTER></CENTER></TR></TBODY></TABLE></CENTER></=\\n', 'CENTER></CENTER></CENTER></CENTER></BODY></HTML>\\n', '\\n', '\\n', '\\n']\n"
     ]
    }
   ],
   "source": [
    "ex_msg = spam_mails[0]\n",
    "print(ex_msg)\n",
    "ex_msg= ' '.join(ex_msg)"
   ]
  },
  {
   "cell_type": "code",
   "execution_count": 36,
   "id": "f9a2dfde",
   "metadata": {},
   "outputs": [
    {
     "name": "stdout",
     "output_type": "stream",
     "text": [
      "From 12a1mailbot1@web.de  Thu Aug 22 13:17:22 2002\n",
      " Return-Path: <12a1mailbot1@web.de>\n",
      " Delivered-To: zzzz@localhost.example.com\n",
      " Received: from localhost (localhost [127.0.0.1])\n",
      " \tby phobos.labs.example.com (Postfix) with ESMTP id 136B943C32\n",
      " \tfor <zzzz@localhost>; Thu, 22 Aug 2002 08:17:21 -0400 (EDT)\n",
      " Received: from mail.webnote.net [193.120.211.219]\n",
      " \tby localhost with POP3 (fetchmail-5.9.0)\n",
      " \tfor zzzz@localhost (single-drop); Thu, 22 Aug 2002 13:17:21 +0100 (IST)\n",
      " Received: from dd_it7 ([210.97.77.167])\n",
      " \tby webnote.net (8.9.3/8.9.3) with ESMTP id NAA04623\n",
      " \tfor <zzzz@example.com>; Thu, 22 Aug 2002 13:09:41 +0100\n",
      " From: 12a1mailbot1@web.de\n",
      " Received: from r-smtp.korea.com - 203.122.2.197 by dd_it7  with Microsoft SMTPSVC(5.5.1775.675.6);\n",
      " \t Sat, 24 Aug 2002 09:42:10 +0900\n",
      " To: <dcek1a1@netsgo.com>\n",
      " Subject: Life Insurance - Why Pay More?\n",
      " Date: Wed, 21 Aug 2002 20:31:57 -1600\n",
      " MIME-Version: 1.0\n",
      " Message-ID: <0103c1042001882DD_IT7@dd_it7>\n",
      " Content-Type: text/html; charset=\"iso-8859-1\"\n",
      " Content-Transfer-Encoding: quoted-printable\n",
      " \n",
      " <!DOCTYPE HTML PUBLIC \"-//W3C//DTD HTML 4.0 Transitional//EN\">\n",
      " <HTML><HEAD>\n",
      " <META content=3D\"text/html; charset=3Dwindows-1252\" http-equiv=3DContent-T=\n",
      " ype>\n",
      " <META content=3D\"MSHTML 5.00.2314.1000\" name=3DGENERATOR></HEAD>\n",
      " <BODY><!-- Inserted by Calypso -->\n",
      " <TABLE border=3D0 cellPadding=3D0 cellSpacing=3D2 id=3D_CalyPrintHeader_ r=\n",
      " ules=3Dnone \n",
      " style=3D\"COLOR: black; DISPLAY: none\" width=3D\"100%\">\n",
      "   <TBODY>\n",
      "   <TR>\n",
      "     <TD colSpan=3D3>\n",
      "       <HR color=3Dblack noShade SIZE=3D1>\n",
      "     </TD></TR></TD></TR>\n",
      "   <TR>\n",
      "     <TD colSpan=3D3>\n",
      "       <HR color=3Dblack noShade SIZE=3D1>\n",
      "     </TD></TR></TBODY></TABLE><!-- End Calypso --><!-- Inserted by Calypso=\n",
      "  --><FONT \n",
      " color=3D#000000 face=3DVERDANA,ARIAL,HELVETICA size=3D-2><BR></FONT></TD><=\n",
      " /TR></TABLE><!-- End Calypso --><FONT color=3D#ff0000 \n",
      " face=3D\"Copperplate Gothic Bold\" size=3D5 PTSIZE=3D\"10\">\n",
      " <CENTER>Save up to 70% on Life Insurance.</CENTER></FONT><FONT color=3D#ff=\n",
      " 0000 \n",
      " face=3D\"Copperplate Gothic Bold\" size=3D5 PTSIZE=3D\"10\">\n",
      " <CENTER>Why Spend More Than You Have To?\n",
      " <CENTER><FONT color=3D#ff0000 face=3D\"Copperplate Gothic Bold\" size=3D5 PT=\n",
      " SIZE=3D\"10\">\n",
      " <CENTER>Life Quote Savings\n",
      " <CENTER>\n",
      " <P align=3Dleft></P>\n",
      " <P align=3Dleft></P></FONT></U></I></B><BR></FONT></U></B></U></I>\n",
      " <P></P>\n",
      " <CENTER>\n",
      " <TABLE border=3D0 borderColor=3D#111111 cellPadding=3D0 cellSpacing=3D0 wi=\n",
      " dth=3D650>\n",
      "   <TBODY></TBODY></TABLE>\n",
      " <TABLE border=3D0 borderColor=3D#111111 cellPadding=3D5 cellSpacing=3D0 wi=\n",
      " dth=3D650>\n",
      "   <TBODY>\n",
      "   <TR>\n",
      "     <TD colSpan=3D2 width=3D\"35%\"><B><FONT face=3DVerdana size=3D4>Ensurin=\n",
      " g your \n",
      "       family's financial security is very important. Life Quote Savings ma=\n",
      " kes \n",
      "       buying life insurance simple and affordable. We Provide FREE Access =\n",
      " to The \n",
      "       Very Best Companies and The Lowest Rates.</FONT></B></TD></TR>\n",
      "   <TR>\n",
      "     <TD align=3Dmiddle vAlign=3Dtop width=3D\"18%\">\n",
      "       <TABLE borderColor=3D#111111 width=3D\"100%\">\n",
      "         <TBODY>\n",
      "         <TR>\n",
      "           <TD style=3D\"PADDING-LEFT: 5px; PADDING-RIGHT: 5px\" width=3D\"100=\n",
      " %\"><FONT \n",
      "             face=3DVerdana size=3D4><B>Life Quote Savings</B> is FAST, EAS=\n",
      " Y and \n",
      "             SAVES you money! Let us help you get started with the best val=\n",
      " ues in \n",
      "             the country on new coverage. You can SAVE hundreds or even tho=\n",
      " usands \n",
      "             of dollars by requesting a FREE quote from Lifequote Savings. =\n",
      " Our \n",
      "             service will take you less than 5 minutes to complete. Shop an=\n",
      " d \n",
      "             compare. SAVE up to 70% on all types of Life insurance! \n",
      " </FONT></TD></TR>\n",
      "         <TR><BR><BR>\n",
      "           <TD height=3D50 style=3D\"PADDING-LEFT: 5px; PADDING-RIGHT: 5px\" \n",
      "           width=3D\"100%\">\n",
      "             <P align=3Dcenter><B><FONT face=3DVerdana size=3D5><A \n",
      "             href=3D\"http://website.e365.cc/savequote/\">Click Here For Your=\n",
      "  \n",
      "             Free Quote!</A></FONT></B></P></TD>\n",
      "           <P><FONT face=3DVerdana size=3D4><STRONG>\n",
      "           <CENTER>Protecting your family is the best investment you'll eve=\n",
      " r \n",
      "           make!<BR></B></TD></TR>\n",
      "         <TR><BR><BR></STRONG></FONT></TD></TR></TD></TR>\n",
      "         <TR></TR></TBODY></TABLE>\n",
      "       <P align=3Dleft><FONT face=3D\"Arial, Helvetica, sans-serif\" size=3D2=\n",
      " ></FONT></P>\n",
      "       <P></P>\n",
      "       <CENTER><BR><BR><BR>\n",
      "       <P></P>\n",
      "       <P align=3Dleft><BR></B><BR><BR><BR><BR></P>\n",
      "       <P align=3Dcenter><BR></P>\n",
      "       <P align=3Dleft><BR></B><BR><BR></FONT>If you are in receipt of this=\n",
      "  email \n",
      "       in error and/or wish to be removed from our list, <A \n",
      "       href=3D\"mailto:coins@btamail.net.cn\">PLEASE CLICK HERE</A> AND TYPE =\n",
      " REMOVE. If you \n",
      "       reside in any state which prohibits e-mail solicitations for insuran=\n",
      " ce, \n",
      "       please disregard this \n",
      "       email.<BR></FONT><BR><BR><BR><BR><BR><BR><BR><BR><BR><BR><BR><BR><BR=\n",
      " ><BR><BR><BR></FONT></P></CENTER></CENTER></TR></TBODY></TABLE></CENTER></=\n",
      " CENTER></CENTER></CENTER></CENTER></BODY></HTML>\n",
      " \n",
      " \n",
      " \n",
      "\n"
     ]
    }
   ],
   "source": [
    "print(ex_msg)"
   ]
  },
  {
   "cell_type": "code",
   "execution_count": 37,
   "id": "8c13f300",
   "metadata": {},
   "outputs": [],
   "source": [
    "msg = email.message_from_string(ex_msg)\n"
   ]
  },
  {
   "cell_type": "code",
   "execution_count": 41,
   "id": "ecf7bfc0",
   "metadata": {},
   "outputs": [
    {
     "data": {
      "text/plain": [
       "b''"
      ]
     },
     "execution_count": 41,
     "metadata": {},
     "output_type": "execute_result"
    }
   ],
   "source": [
    "msg.get_payload(decode=True)"
   ]
  },
  {
   "cell_type": "code",
   "execution_count": 33,
   "id": "03e22a87",
   "metadata": {},
   "outputs": [],
   "source": [
    "import email.policy\n",
    "from email.parser import BytesParser\n",
    "\n"
   ]
  },
  {
   "cell_type": "code",
   "execution_count": null,
   "id": "884a89c3",
   "metadata": {},
   "outputs": [],
   "source": [
    "import email\n",
    "import email.policy\n",
    "\n",
    "with open(\"example.email\", \"rb\") as f:\n",
    "    msg = email.message_from_bytes(f.read(), policy=email.policy.default)\n",
    "\n",
    "for part in msg.iter_parts():\n",
    "    print(part.get_content())"
   ]
  },
  {
   "cell_type": "code",
   "execution_count": 34,
   "id": "55a91eee",
   "metadata": {},
   "outputs": [],
   "source": [
    "parser = BytesParser(policy=email.policy.default)"
   ]
  },
  {
   "cell_type": "code",
   "execution_count": 39,
   "id": "9ebc6033",
   "metadata": {},
   "outputs": [
    {
     "ename": "AttributeError",
     "evalue": "'list' object has no attribute 'readable'",
     "output_type": "error",
     "traceback": [
      "\u001b[1;31m---------------------------------------------------------------------------\u001b[0m",
      "\u001b[1;31mAttributeError\u001b[0m                            Traceback (most recent call last)",
      "Cell \u001b[1;32mIn[39], line 1\u001b[0m\n\u001b[1;32m----> 1\u001b[0m parser\u001b[38;5;241m.\u001b[39mparse(spam_mails[\u001b[38;5;241m0\u001b[39m])\n",
      "File \u001b[1;32m~\\anaconda3\\Lib\\email\\parser.py:107\u001b[0m, in \u001b[0;36mBytesParser.parse\u001b[1;34m(self, fp, headersonly)\u001b[0m\n\u001b[0;32m     99\u001b[0m \u001b[38;5;28;01mdef\u001b[39;00m \u001b[38;5;21mparse\u001b[39m(\u001b[38;5;28mself\u001b[39m, fp, headersonly\u001b[38;5;241m=\u001b[39m\u001b[38;5;28;01mFalse\u001b[39;00m):\n\u001b[0;32m    100\u001b[0m \u001b[38;5;250m    \u001b[39m\u001b[38;5;124;03m\"\"\"Create a message structure from the data in a binary file.\u001b[39;00m\n\u001b[0;32m    101\u001b[0m \n\u001b[0;32m    102\u001b[0m \u001b[38;5;124;03m    Reads all the data from the file and returns the root of the message\u001b[39;00m\n\u001b[1;32m   (...)\u001b[0m\n\u001b[0;32m    105\u001b[0m \u001b[38;5;124;03m    meaning it parses the entire contents of the file.\u001b[39;00m\n\u001b[0;32m    106\u001b[0m \u001b[38;5;124;03m    \"\"\"\u001b[39;00m\n\u001b[1;32m--> 107\u001b[0m     fp \u001b[38;5;241m=\u001b[39m TextIOWrapper(fp, encoding\u001b[38;5;241m=\u001b[39m\u001b[38;5;124m'\u001b[39m\u001b[38;5;124mascii\u001b[39m\u001b[38;5;124m'\u001b[39m, errors\u001b[38;5;241m=\u001b[39m\u001b[38;5;124m'\u001b[39m\u001b[38;5;124msurrogateescape\u001b[39m\u001b[38;5;124m'\u001b[39m)\n\u001b[0;32m    108\u001b[0m     \u001b[38;5;28;01mtry\u001b[39;00m:\n\u001b[0;32m    109\u001b[0m         \u001b[38;5;28;01mreturn\u001b[39;00m \u001b[38;5;28mself\u001b[39m\u001b[38;5;241m.\u001b[39mparser\u001b[38;5;241m.\u001b[39mparse(fp, headersonly)\n",
      "\u001b[1;31mAttributeError\u001b[0m: 'list' object has no attribute 'readable'"
     ]
    }
   ],
   "source": [
    "parser.parse(spam_mails[0])"
   ]
  },
  {
   "cell_type": "code",
   "execution_count": 48,
   "id": "042129a0",
   "metadata": {},
   "outputs": [],
   "source": [
    "def load_email(file):\n",
    "    with open(file,'rb') as f:\n",
    "        return parser.parse(f)"
   ]
  },
  {
   "cell_type": "code",
   "execution_count": 49,
   "id": "4c1579d4",
   "metadata": {},
   "outputs": [],
   "source": [
    "email = []\n",
    "for file in files:\n",
    "    email.append(load_email(file))"
   ]
  },
  {
   "cell_type": "code",
   "execution_count": 65,
   "id": "0ed252cf",
   "metadata": {},
   "outputs": [],
   "source": [
    "a= email[1].get_body()"
   ]
  },
  {
   "cell_type": "code",
   "execution_count": 71,
   "id": "d55442a9",
   "metadata": {},
   "outputs": [
    {
     "data": {
      "text/plain": [
       "'text/plain'"
      ]
     },
     "execution_count": 71,
     "metadata": {},
     "output_type": "execute_result"
    }
   ],
   "source": []
  }
 ],
 "metadata": {
  "kernelspec": {
   "display_name": "base",
   "language": "python",
   "name": "python3"
  },
  "language_info": {
   "codemirror_mode": {
    "name": "ipython",
    "version": 3
   },
   "file_extension": ".py",
   "mimetype": "text/x-python",
   "name": "python",
   "nbconvert_exporter": "python",
   "pygments_lexer": "ipython3",
   "version": "3.12.3"
  }
 },
 "nbformat": 4,
 "nbformat_minor": 5
}
